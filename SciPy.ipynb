{
 "cells": [
  {
   "cell_type": "code",
   "execution_count": 1,
   "id": "9e982a1a",
   "metadata": {},
   "outputs": [],
   "source": [
    "import scipy.constants\n",
    "from scipy import constants"
   ]
  },
  {
   "cell_type": "code",
   "execution_count": 2,
   "id": "9ca8b10a",
   "metadata": {},
   "outputs": [
    {
     "name": "stdout",
     "output_type": "stream",
     "text": [
      "3.141592653589793\n"
     ]
    }
   ],
   "source": [
    "print(constants.pi)"
   ]
  },
  {
   "cell_type": "code",
   "execution_count": 3,
   "id": "a987daf7",
   "metadata": {},
   "outputs": [
    {
     "name": "stdout",
     "output_type": "stream",
     "text": [
      "['Avogadro', 'Boltzmann', 'Btu', 'Btu_IT', 'Btu_th', 'ConstantWarning', 'G', 'Julian_year', 'N_A', 'Planck', 'R', 'Rydberg', 'Stefan_Boltzmann', 'Wien', '__all__', '__builtins__', '__cached__', '__doc__', '__file__', '__loader__', '__name__', '__package__', '__path__', '__spec__', '_obsolete_constants', 'acre', 'alpha', 'angstrom', 'arcmin', 'arcminute', 'arcsec', 'arcsecond', 'astronomical_unit', 'atm', 'atmosphere', 'atomic_mass', 'atto', 'au', 'bar', 'barrel', 'bbl', 'blob', 'c', 'calorie', 'calorie_IT', 'calorie_th', 'carat', 'centi', 'codata', 'constants', 'convert_temperature', 'day', 'deci', 'degree', 'degree_Fahrenheit', 'deka', 'dyn', 'dyne', 'e', 'eV', 'electron_mass', 'electron_volt', 'elementary_charge', 'epsilon_0', 'erg', 'exa', 'exbi', 'femto', 'fermi', 'find', 'fine_structure', 'fluid_ounce', 'fluid_ounce_US', 'fluid_ounce_imp', 'foot', 'g', 'gallon', 'gallon_US', 'gallon_imp', 'gas_constant', 'gibi', 'giga', 'golden', 'golden_ratio', 'grain', 'gram', 'gravitational_constant', 'h', 'hbar', 'hectare', 'hecto', 'horsepower', 'hour', 'hp', 'inch', 'k', 'kgf', 'kibi', 'kilo', 'kilogram_force', 'kmh', 'knot', 'lambda2nu', 'lb', 'lbf', 'light_year', 'liter', 'litre', 'long_ton', 'm_e', 'm_n', 'm_p', 'm_u', 'mach', 'mebi', 'mega', 'metric_ton', 'micro', 'micron', 'mil', 'mile', 'milli', 'minute', 'mmHg', 'mph', 'mu_0', 'nano', 'nautical_mile', 'neutron_mass', 'nu2lambda', 'ounce', 'oz', 'parsec', 'pebi', 'peta', 'physical_constants', 'pi', 'pico', 'point', 'pound', 'pound_force', 'precision', 'proton_mass', 'psi', 'pt', 'short_ton', 'sigma', 'slinch', 'slug', 'speed_of_light', 'speed_of_sound', 'stone', 'survey_foot', 'survey_mile', 'tebi', 'tera', 'test', 'ton_TNT', 'torr', 'troy_ounce', 'troy_pound', 'u', 'unit', 'value', 'week', 'yard', 'year', 'yobi', 'yotta', 'zebi', 'zepto', 'zero_Celsius', 'zetta']\n"
     ]
    }
   ],
   "source": [
    "print(dir(constants))"
   ]
  },
  {
   "cell_type": "code",
   "execution_count": 4,
   "id": "a7153c5f",
   "metadata": {},
   "outputs": [
    {
     "name": "stdout",
     "output_type": "stream",
     "text": [
      "1000.0\n"
     ]
    }
   ],
   "source": [
    "print(constants.kilo)"
   ]
  },
  {
   "cell_type": "code",
   "execution_count": 5,
   "id": "9c0fcccb",
   "metadata": {},
   "outputs": [
    {
     "name": "stdout",
     "output_type": "stream",
     "text": [
      "60.0\n"
     ]
    }
   ],
   "source": [
    "print(constants.minute)"
   ]
  },
  {
   "cell_type": "code",
   "execution_count": 6,
   "id": "8a188de3",
   "metadata": {},
   "outputs": [
    {
     "name": "stdout",
     "output_type": "stream",
     "text": [
      "745.6998715822701\n"
     ]
    }
   ],
   "source": [
    "print(constants.horsepower)"
   ]
  },
  {
   "cell_type": "code",
   "execution_count": 7,
   "id": "d9abb168",
   "metadata": {},
   "outputs": [
    {
     "name": "stdout",
     "output_type": "stream",
     "text": [
      "9.80665\n"
     ]
    }
   ],
   "source": [
    "print(constants.kgf)"
   ]
  },
  {
   "cell_type": "code",
   "execution_count": 8,
   "id": "8c10943b",
   "metadata": {},
   "outputs": [],
   "source": [
    "from scipy.integrate import quad"
   ]
  },
  {
   "cell_type": "code",
   "execution_count": 9,
   "id": "62be8f46",
   "metadata": {},
   "outputs": [
    {
     "data": {
      "text/plain": [
       "(0.33333333333333337, 3.700743415417189e-15)"
      ]
     },
     "execution_count": 9,
     "metadata": {},
     "output_type": "execute_result"
    }
   ],
   "source": [
    "def inte(x):\n",
    "    return x**2\n",
    "\n",
    "quad(inte,0,1)"
   ]
  },
  {
   "cell_type": "code",
   "execution_count": 10,
   "id": "0b16dac1",
   "metadata": {},
   "outputs": [],
   "source": [
    "from scipy.integrate import dblquad"
   ]
  },
  {
   "cell_type": "code",
   "execution_count": 11,
   "id": "b5d5e516",
   "metadata": {},
   "outputs": [
    {
     "data": {
      "text/plain": [
       "(19.0, 2.219963897490219e-13)"
      ]
     },
     "execution_count": 11,
     "metadata": {},
     "output_type": "execute_result"
    }
   ],
   "source": [
    "def dinte(x,y):\n",
    "    return 3*x+y\n",
    "\n",
    "dblquad(dinte,0,1,2,4)"
   ]
  },
  {
   "cell_type": "code",
   "execution_count": 12,
   "id": "4a57cb2b",
   "metadata": {},
   "outputs": [
    {
     "data": {
      "text/plain": [
       "(48.0, 5.660690970308016e-13)"
      ]
     },
     "execution_count": 12,
     "metadata": {},
     "output_type": "execute_result"
    }
   ],
   "source": [
    "from scipy.integrate import tplquad\n",
    "def tinte(x,y,z):\n",
    "    return x+y+z\n",
    "\n",
    "tplquad(tinte,0,1,2,4,3,6)"
   ]
  },
  {
   "cell_type": "code",
   "execution_count": 13,
   "id": "71c7e272",
   "metadata": {},
   "outputs": [
    {
     "name": "stdout",
     "output_type": "stream",
     "text": [
      "[ 153.035  -131.7325   17.565 ]\n"
     ]
    }
   ],
   "source": [
    "import numpy as np\n",
    "from scipy import linalg\n",
    "a = np.array([[3,4,5],[5,-2,-56],[-2,-2,17]])\n",
    "b = np.array([20,45,256])\n",
    "\n",
    "m = linalg.solve(a,b)\n",
    "print(m)"
   ]
  },
  {
   "cell_type": "code",
   "execution_count": 14,
   "id": "ddda03e4",
   "metadata": {},
   "outputs": [
    {
     "data": {
      "text/plain": [
       "array([[1., 2.],\n",
       "       [5., 8.]])"
      ]
     },
     "execution_count": 14,
     "metadata": {},
     "output_type": "execute_result"
    }
   ],
   "source": [
    "x = np.array([[1.,2],[5,8]])\n",
    "x"
   ]
  },
  {
   "cell_type": "code",
   "execution_count": 15,
   "id": "16081ccc",
   "metadata": {},
   "outputs": [
    {
     "data": {
      "text/plain": [
       "-2.0"
      ]
     },
     "execution_count": 15,
     "metadata": {},
     "output_type": "execute_result"
    }
   ],
   "source": [
    "linalg.det(x)"
   ]
  },
  {
   "cell_type": "code",
   "execution_count": 16,
   "id": "7cadc4b4",
   "metadata": {},
   "outputs": [
    {
     "data": {
      "text/plain": [
       "array([[-4. ,  1. ],\n",
       "       [ 2.5, -0.5]])"
      ]
     },
     "execution_count": 16,
     "metadata": {},
     "output_type": "execute_result"
    }
   ],
   "source": [
    "linalg.inv(x)"
   ]
  },
  {
   "cell_type": "code",
   "execution_count": 17,
   "id": "99a900ef",
   "metadata": {},
   "outputs": [
    {
     "name": "stderr",
     "output_type": "stream",
     "text": [
      "C:\\ProgramData\\Anaconda3\\lib\\site-packages\\seaborn\\_decorators.py:36: FutureWarning: Pass the following variable as a keyword arg: x. From version 0.12, the only valid positional argument will be `data`, and passing other arguments without an explicit keyword will result in an error or misinterpretation.\n",
      "  warnings.warn(\n"
     ]
    },
    {
     "data": {
      "text/plain": [
       "<AxesSubplot:>"
      ]
     },
     "execution_count": 17,
     "metadata": {},
     "output_type": "execute_result"
    },
    {
     "data": {
      "image/png": "[encoded data removed]",
      "text/plain": [
       "<Figure size 432x288 with 1 Axes>"
      ]
     },
     "metadata": {
      "needs_background": "light"
     },
     "output_type": "display_data"
    }
   ],
   "source": [
    "weight = np.array([-1000,24,45,78,-50,1400,-10,1000])\n",
    "import seaborn as sns\n",
    "sns.boxplot(weight)"
   ]
  },
  {
   "cell_type": "code",
   "execution_count": 18,
   "id": "398aeb78",
   "metadata": {},
   "outputs": [
    {
     "name": "stdout",
     "output_type": "stream",
     "text": [
      "IQR: 328.5\n",
      "Q1: -20.0\n",
      "Q3: 308.5\n",
      "lowerbound: -512.75\n",
      "upperbound: 801.25\n"
     ]
    }
   ],
   "source": [
    "from scipy import stats\n",
    "\n",
    "iqr = stats.iqr(weight)\n",
    "print(\"IQR:\", iqr)\n",
    "\n",
    "q1 = stats.scoreatpercentile(weight,25)\n",
    "print(\"Q1:\", q1)\n",
    "\n",
    "q3 = stats.scoreatpercentile(weight,75)\n",
    "print(\"Q3:\",q3)\n",
    "\n",
    "lowerbound = q1-1.5*iqr\n",
    "print(\"lowerbound:\", lowerbound)\n",
    "\n",
    "upperbound = q3+1.5*iqr\n",
    "print(\"upperbound:\", upperbound)"
   ]
  },
  {
   "cell_type": "code",
   "execution_count": 19,
   "id": "e25a2a8b",
   "metadata": {},
   "outputs": [
    {
     "name": "stdout",
     "output_type": "stream",
     "text": [
      "[-1000  1400  1000]\n"
     ]
    }
   ],
   "source": [
    "outliers = weight[((weight<lowerbound) | (weight>upperbound))]\n",
    "print(outliers)"
   ]
  }
 ],
 "metadata": {
  "kernelspec": {
   "display_name": "Python 3 (ipykernel)",
   "language": "python",
   "name": "python3"
  },
  "language_info": {
   "codemirror_mode": {
    "name": "ipython",
    "version": 3
   },
   "file_extension": ".py",
   "mimetype": "text/x-python",
   "name": "python",
   "nbconvert_exporter": "python",
   "pygments_lexer": "ipython3",
   "version": "3.9.7"
  }
 },
 "nbformat": 4,
 "nbformat_minor": 5
}
