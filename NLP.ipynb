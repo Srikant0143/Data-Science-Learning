{
 "cells": [
  {
   "cell_type": "code",
   "execution_count": 1,
   "id": "5429332d",
   "metadata": {},
   "outputs": [],
   "source": [
    "import pandas as pd"
   ]
  },
  {
   "cell_type": "code",
   "execution_count": 2,
   "id": "5c878e84",
   "metadata": {},
   "outputs": [],
   "source": [
    "data = pd.read_csv(\"User_reviews-1.csv\")"
   ]
  },
  {
   "cell_type": "code",
   "execution_count": 3,
   "id": "e5edf2d6",
   "metadata": {},
   "outputs": [],
   "source": [
    "usernew = data[:3]"
   ]
  },
  {
   "cell_type": "code",
   "execution_count": 4,
   "id": "44990de8",
   "metadata": {},
   "outputs": [
    {
     "data": {
      "text/html": [
       "<div>\n",
       "<style scoped>\n",
       "    .dataframe tbody tr th:only-of-type {\n",
       "        vertical-align: middle;\n",
       "    }\n",
       "\n",
       "    .dataframe tbody tr th {\n",
       "        vertical-align: top;\n",
       "    }\n",
       "\n",
       "    .dataframe thead th {\n",
       "        text-align: right;\n",
       "    }\n",
       "</style>\n",
       "<table border=\"1\" class=\"dataframe\">\n",
       "  <thead>\n",
       "    <tr style=\"text-align: right;\">\n",
       "      <th></th>\n",
       "      <th>Review</th>\n",
       "      <th>Sentiment</th>\n",
       "    </tr>\n",
       "  </thead>\n",
       "  <tbody>\n",
       "    <tr>\n",
       "      <th>0</th>\n",
       "      <td>Wow... Loved this place.</td>\n",
       "      <td>1.0</td>\n",
       "    </tr>\n",
       "    <tr>\n",
       "      <th>1</th>\n",
       "      <td>I learned that if an electric slicer is used t...</td>\n",
       "      <td>NaN</td>\n",
       "    </tr>\n",
       "    <tr>\n",
       "      <th>2</th>\n",
       "      <td>But they don't clean the chiles?</td>\n",
       "      <td>NaN</td>\n",
       "    </tr>\n",
       "  </tbody>\n",
       "</table>\n",
       "</div>"
      ],
      "text/plain": [
       "                                              Review  Sentiment\n",
       "0                           Wow... Loved this place.        1.0\n",
       "1  I learned that if an electric slicer is used t...        NaN\n",
       "2                   But they don't clean the chiles?        NaN"
      ]
     },
     "execution_count": 4,
     "metadata": {},
     "output_type": "execute_result"
    }
   ],
   "source": [
    "usernew.head()"
   ]
  },
  {
   "cell_type": "code",
   "execution_count": 5,
   "id": "bed703e9",
   "metadata": {},
   "outputs": [],
   "source": [
    "import nltk"
   ]
  },
  {
   "cell_type": "code",
   "execution_count": 6,
   "id": "9d279e64",
   "metadata": {},
   "outputs": [
    {
     "data": {
      "text/plain": [
       "['adventure',\n",
       " 'belles_lettres',\n",
       " 'editorial',\n",
       " 'fiction',\n",
       " 'government',\n",
       " 'hobbies',\n",
       " 'humor',\n",
       " 'learned',\n",
       " 'lore',\n",
       " 'mystery',\n",
       " 'news',\n",
       " 'religion',\n",
       " 'reviews',\n",
       " 'romance',\n",
       " 'science_fiction']"
      ]
     },
     "execution_count": 6,
     "metadata": {},
     "output_type": "execute_result"
    }
   ],
   "source": [
    "from nltk.corpus import brown\n",
    "brown.categories()"
   ]
  },
  {
   "cell_type": "code",
   "execution_count": 7,
   "id": "7661d525",
   "metadata": {},
   "outputs": [
    {
     "data": {
      "text/plain": [
       "['The', 'Fulton', 'County', 'Grand', 'Jury', 'said', ...]"
      ]
     },
     "execution_count": 7,
     "metadata": {},
     "output_type": "execute_result"
    }
   ],
   "source": [
    "brown.words()"
   ]
  },
  {
   "cell_type": "markdown",
   "id": "fc1372aa",
   "metadata": {},
   "source": [
    "# Tokenization"
   ]
  },
  {
   "cell_type": "code",
   "execution_count": 8,
   "id": "9cf1ad5a",
   "metadata": {},
   "outputs": [
    {
     "name": "stdout",
     "output_type": "stream",
     "text": [
      "Wow... Loved this place.\n"
     ]
    }
   ],
   "source": [
    "from nltk.tokenize import sent_tokenize,word_tokenize\n",
    "example_text=usernew[\"Review\"][0]\n",
    "print(example_text)"
   ]
  },
  {
   "cell_type": "code",
   "execution_count": 9,
   "id": "9dd613f3",
   "metadata": {},
   "outputs": [
    {
     "name": "stdout",
     "output_type": "stream",
     "text": [
      "['Wow...', 'Loved this place.']\n"
     ]
    }
   ],
   "source": [
    "# Sentence Tokentize   # full stop for news sentence identifier\n",
    "sent_tokens=sent_tokenize(example_text)\n",
    "print(sent_tokens)"
   ]
  },
  {
   "cell_type": "code",
   "execution_count": 10,
   "id": "930add46",
   "metadata": {},
   "outputs": [
    {
     "name": "stdout",
     "output_type": "stream",
     "text": [
      "['Wow', '...', 'Loved', 'this', 'place', '.']\n"
     ]
    }
   ],
   "source": [
    "# word Tokentizer\n",
    "word_tokens=word_tokenize(example_text)\n",
    "print(word_tokens)"
   ]
  },
  {
   "cell_type": "markdown",
   "id": "ffe7460d",
   "metadata": {},
   "source": [
    "# stopwords"
   ]
  },
  {
   "cell_type": "code",
   "execution_count": 11,
   "id": "c272d70d",
   "metadata": {},
   "outputs": [
    {
     "name": "stdout",
     "output_type": "stream",
     "text": [
      "{\"you've\", \"you're\", 'why', 'until', 'too', 'wouldn', 'not', \"hadn't\", 'i', 'o', 'isn', 'them', 'doing', \"shouldn't\", 'whom', 'with', 'my', 'your', 'from', 'own', 'been', 'she', 'nor', \"don't\", 'an', 'after', 'has', 'over', 'd', 'does', 'won', 'me', 'these', 'having', \"shan't\", 'have', \"mightn't\", 'or', \"it's\", \"won't\", \"hasn't\", 'hasn', 'at', 'it', 'wasn', \"mustn't\", \"needn't\", 'than', 'him', 'below', 'who', 'himself', 'in', 's', 'doesn', \"wouldn't\", 'he', 'and', 'under', 'off', 'here', \"wasn't\", 'so', 'through', \"you'd\", 'while', 'before', 'should', 'just', 'myself', \"doesn't\", 'didn', 'into', 'yourself', 'herself', \"weren't\", 'what', 'was', 'for', 'are', 't', 'that', 'very', 'themselves', 'to', 'further', \"should've\", 'mustn', 'how', 'shouldn', 'his', 'm', 'which', 'being', 'out', 'during', 'this', 'don', 'only', 'there', 'am', 'mightn', 'down', 'of', 'y', 'were', 'where', 'her', 'because', 'will', 'hers', 'couldn', \"couldn't\", 'haven', \"she's\", 'any', 've', 'above', 'such', 'its', 'ourselves', 'a', 'against', 'when', 'll', 'other', 'can', 'all', 'no', 'more', 'up', 'did', 'between', 'as', 'weren', 'the', 'is', 're', 'both', \"you'll\", 'their', 'each', \"isn't\", 'if', 'once', 'you', 'needn', 'do', \"aren't\", 'itself', 'most', 'those', 'some', 'about', 'be', 'ma', 'theirs', 'they', 'but', 'yourselves', 'yours', 'again', 'ours', 'had', 'on', 'by', 'now', 'hadn', \"that'll\", \"didn't\", 'few', 'same', 'ain', \"haven't\", 'then', 'shan', 'our', 'we', 'aren'}\n",
      "179\n"
     ]
    }
   ],
   "source": [
    "from nltk.corpus import stopwords\n",
    "stop_words=set(stopwords.words(\"english\")) \n",
    "print(stop_words)\n",
    "print(len(stop_words))"
   ]
  },
  {
   "cell_type": "code",
   "execution_count": 12,
   "id": "bc036eed",
   "metadata": {},
   "outputs": [
    {
     "name": "stdout",
     "output_type": "stream",
     "text": [
      "['Wow', '...', 'Loved', 'place', '.']\n"
     ]
    }
   ],
   "source": [
    "filtered_sentence=[]\n",
    "for w in word_tokens:\n",
    "    if w not in stop_words:\n",
    "        filtered_sentence.append(w)\n",
    "print(filtered_sentence)"
   ]
  },
  {
   "cell_type": "code",
   "execution_count": 13,
   "id": "63e19e71",
   "metadata": {},
   "outputs": [
    {
     "name": "stdout",
     "output_type": "stream",
     "text": [
      "186\n",
      "{\"you've\", \"you're\", 'why', 'until', 'too', 'wouldn', 'not', \"hadn't\", 'i', 'o', 'isn', 'them', 'doing', \"shouldn't\", 'whom', 'with', 'my', 'your', 'from', 'own', ')', 'been', 'she', 'nor', \"don't\", 'an', 'after', 'has', 'over', 'd', 'does', 'won', 'me', 'these', 'having', \"shan't\", 'have', \"mightn't\", 'or', \"it's\", \"won't\", \"hasn't\", '{', 'hasn', 'at', 'it', 'wasn', \"mustn't\", \"needn't\", 'than', 'him', 'below', 'who', 'himself', 'in', 's', 'doesn', \"wouldn't\", 'he', 'and', 'under', 'off', 'here', \"wasn't\", 'so', 'through', \"you'd\", 'while', '...', 'before', 'should', 'just', 'myself', \"doesn't\", 'didn', 'into', 'yourself', 'herself', \"weren't\", 'what', 'was', 'for', 'are', 't', 'that', 'very', 'themselves', 'to', 'further', \"should've\", 'mustn', 'how', 'shouldn', 'his', 'm', 'which', 'being', 'out', 'during', 'this', 'don', 'only', 'there', 'am', 'mightn', 'down', 'of', 'y', 'were', 'where', 'her', 'because', 'will', 'hers', 'couldn', \"couldn't\", 'haven', \"she's\", 'any', 've', 'above', 'such', 'its', '?', 'ourselves', 'a', 'against', 'when', 'll', 'other', 'can', 'all', 'no', 'more', 'up', 'did', 'between', 'as', 'weren', 'the', 'is', 're', 'both', \"you'll\", 'their', 'each', \"isn't\", 'if', 'once', 'you', 'needn', 'do', \"aren't\", '}', 'itself', 'most', 'those', 'some', 'about', 'be', 'ma', 'theirs', 'they', 'but', 'yourselves', 'yours', 'again', '(', 'ours', 'had', 'on', 'by', 'now', 'hadn', '.', \"that'll\", \"didn't\", 'few', 'same', 'ain', \"haven't\", 'then', 'shan', 'our', 'we', 'aren'}\n"
     ]
    }
   ],
   "source": [
    "stop_words.update([\".\",\"...\",\"?\",\"{\",\"}\",\"(\",\")\"])\n",
    "print(len(stop_words))\n",
    "print(stop_words)"
   ]
  },
  {
   "cell_type": "code",
   "execution_count": 14,
   "id": "40e18b3e",
   "metadata": {},
   "outputs": [
    {
     "name": "stdout",
     "output_type": "stream",
     "text": [
      "['Wow', 'Loved', 'place']\n"
     ]
    }
   ],
   "source": [
    "filtered_sentence=[]\n",
    "for w in word_tokens:\n",
    "    if w not in stop_words:\n",
    "        filtered_sentence.append(w)\n",
    "print(filtered_sentence)"
   ]
  },
  {
   "cell_type": "markdown",
   "id": "ee2753d9",
   "metadata": {},
   "source": [
    "# Stemming"
   ]
  },
  {
   "cell_type": "code",
   "execution_count": 15,
   "id": "b5f03c41",
   "metadata": {},
   "outputs": [
    {
     "name": "stdout",
     "output_type": "stream",
     "text": [
      "['wow', '...', 'love', 'thi', 'place', '.']\n"
     ]
    }
   ],
   "source": [
    "from nltk.stem import PorterStemmer\n",
    "stemmer=PorterStemmer()\n",
    "stem_token=[stemmer.stem(word) for word in word_tokens]\n",
    "print(stem_token)"
   ]
  },
  {
   "cell_type": "markdown",
   "id": "d498f80b",
   "metadata": {},
   "source": [
    "# Lemmatization"
   ]
  },
  {
   "cell_type": "code",
   "execution_count": 16,
   "id": "04f66852",
   "metadata": {},
   "outputs": [
    {
     "name": "stdout",
     "output_type": "stream",
     "text": [
      "['Wow', '...', 'Loved', 'this', 'place', '.']\n"
     ]
    }
   ],
   "source": [
    "# Lemmatization\n",
    "from nltk.stem import WordNetLemmatizer\n",
    "lemmatizer=WordNetLemmatizer()\n",
    "lemm_token=[lemmatizer.lemmatize(word) for word in word_tokens]\n",
    "print(lemm_token)"
   ]
  },
  {
   "cell_type": "markdown",
   "id": "346ac2b2",
   "metadata": {},
   "source": [
    "# --------------------------------------------------------"
   ]
  },
  {
   "cell_type": "code",
   "execution_count": 17,
   "id": "7d9e85c2",
   "metadata": {},
   "outputs": [
    {
     "name": "stdout",
     "output_type": "stream",
     "text": [
      "I learned that if an electric slicer is used the blade becomes hot enough to start to cook the prosciutto.\n"
     ]
    }
   ],
   "source": [
    "example_text=usernew[\"Review\"][1]\n",
    "print(example_text)"
   ]
  },
  {
   "cell_type": "code",
   "execution_count": 18,
   "id": "416d4f82",
   "metadata": {},
   "outputs": [
    {
     "name": "stdout",
     "output_type": "stream",
     "text": [
      "['I learned that if an electric slicer is used the blade becomes hot enough to start to cook the prosciutto.']\n"
     ]
    }
   ],
   "source": [
    "sent_tokens=sent_tokenize(example_text)\n",
    "print(sent_tokens)"
   ]
  },
  {
   "cell_type": "code",
   "execution_count": 19,
   "id": "53664cdf",
   "metadata": {},
   "outputs": [
    {
     "name": "stdout",
     "output_type": "stream",
     "text": [
      "['I', 'learned', 'that', 'if', 'an', 'electric', 'slicer', 'is', 'used', 'the', 'blade', 'becomes', 'hot', 'enough', 'to', 'start', 'to', 'cook', 'the', 'prosciutto', '.']\n"
     ]
    }
   ],
   "source": [
    "# word Tokentizer\n",
    "word_tokens=word_tokenize(example_text)\n",
    "print(word_tokens)"
   ]
  },
  {
   "cell_type": "code",
   "execution_count": 20,
   "id": "87cadead",
   "metadata": {},
   "outputs": [
    {
     "name": "stdout",
     "output_type": "stream",
     "text": [
      "['I', 'learned', 'electric', 'slicer', 'used', 'blade', 'becomes', 'hot', 'enough', 'start', 'cook', 'prosciutto']\n"
     ]
    }
   ],
   "source": [
    "filtered_sentence=[]\n",
    "for w in word_tokens:\n",
    "    if w not in stop_words:\n",
    "        filtered_sentence.append(w)\n",
    "print(filtered_sentence)"
   ]
  },
  {
   "cell_type": "code",
   "execution_count": 21,
   "id": "64c17839",
   "metadata": {},
   "outputs": [
    {
     "name": "stdout",
     "output_type": "stream",
     "text": [
      "186\n",
      "{\"you've\", \"you're\", 'why', 'until', 'too', 'wouldn', 'not', \"hadn't\", 'i', 'o', 'isn', 'them', 'doing', \"shouldn't\", 'whom', 'with', 'my', 'your', 'from', 'own', ')', 'been', 'she', 'nor', \"don't\", 'an', 'after', 'has', 'over', 'd', 'does', 'won', 'me', 'these', 'having', \"shan't\", 'have', \"mightn't\", 'or', \"it's\", \"won't\", \"hasn't\", '{', 'hasn', 'at', 'it', 'wasn', \"mustn't\", \"needn't\", 'than', 'him', 'below', 'who', 'himself', 'in', 's', 'doesn', \"wouldn't\", 'he', 'and', 'under', 'off', 'here', \"wasn't\", 'so', 'through', \"you'd\", 'while', '...', 'before', 'should', 'just', 'myself', \"doesn't\", 'didn', 'into', 'yourself', 'herself', \"weren't\", 'what', 'was', 'for', 'are', 't', 'that', 'very', 'themselves', 'to', 'further', \"should've\", 'mustn', 'how', 'shouldn', 'his', 'm', 'which', 'being', 'out', 'during', 'this', 'don', 'only', 'there', 'am', 'mightn', 'down', 'of', 'y', 'were', 'where', 'her', 'because', 'will', 'hers', 'couldn', \"couldn't\", 'haven', \"she's\", 'any', 've', 'above', 'such', 'its', '?', 'ourselves', 'a', 'against', 'when', 'll', 'other', 'can', 'all', 'no', 'more', 'up', 'did', 'between', 'as', 'weren', 'the', 'is', 're', 'both', \"you'll\", 'their', 'each', \"isn't\", 'if', 'once', 'you', 'needn', 'do', \"aren't\", '}', 'itself', 'most', 'those', 'some', 'about', 'be', 'ma', 'theirs', 'they', 'but', 'yourselves', 'yours', 'again', '(', 'ours', 'had', 'on', 'by', 'now', 'hadn', '.', \"that'll\", \"didn't\", 'few', 'same', 'ain', \"haven't\", 'then', 'shan', 'our', 'we', 'aren'}\n"
     ]
    }
   ],
   "source": [
    "stop_words.update(['.',\"...\",\"?\",\"{\",\"}\",\"(\",\")\"])\n",
    "print(len(stop_words))\n",
    "print(stop_words)"
   ]
  },
  {
   "cell_type": "code",
   "execution_count": 22,
   "id": "2c38c067",
   "metadata": {},
   "outputs": [
    {
     "name": "stdout",
     "output_type": "stream",
     "text": [
      "['i', 'learn', 'that', 'if', 'an', 'electr', 'slicer', 'is', 'use', 'the', 'blade', 'becom', 'hot', 'enough', 'to', 'start', 'to', 'cook', 'the', 'prosciutto', '.']\n"
     ]
    }
   ],
   "source": [
    "from nltk.stem import PorterStemmer\n",
    "stemmer=PorterStemmer()\n",
    "stem_token=[stemmer.stem(word) for word in word_tokens]\n",
    "print(stem_token)"
   ]
  },
  {
   "cell_type": "code",
   "execution_count": 23,
   "id": "9bc79b77",
   "metadata": {},
   "outputs": [
    {
     "name": "stdout",
     "output_type": "stream",
     "text": [
      "['I', 'learned', 'that', 'if', 'an', 'electric', 'slicer', 'is', 'used', 'the', 'blade', 'becomes', 'hot', 'enough', 'to', 'start', 'to', 'cook', 'the', 'prosciutto', '.']\n"
     ]
    }
   ],
   "source": [
    "# Lemmatization\n",
    "from nltk.stem import WordNetLemmatizer\n",
    "lemmatizer=WordNetLemmatizer()\n",
    "lemm_token=[lemmatizer.lemmatize(word) for word in word_tokens]\n",
    "print(lemm_token)"
   ]
  },
  {
   "cell_type": "markdown",
   "id": "9c8b07be",
   "metadata": {},
   "source": [
    "# POS Tagging"
   ]
  },
  {
   "cell_type": "code",
   "execution_count": 24,
   "id": "b6bda8cd",
   "metadata": {},
   "outputs": [
    {
     "name": "stdout",
     "output_type": "stream",
     "text": [
      "[('Text', 'NN'), ('mining', 'NN'), ('is', 'VBZ'), ('also', 'RB'), ('refeered', 'VBN'), ('as', 'IN'), ('text', 'NN'), ('data', 'NNS'), ('Mining', 'NNP'), (',', ','), ('rough', 'JJ'), ('equicvalent', 'NN'), ('text', 'NN'), ('analytics', 'NNS'), ('is', 'VBZ'), ('the', 'DT'), ('process', 'NN'), ('of', 'IN'), ('derivating', 'VBG')]\n"
     ]
    }
   ],
   "source": [
    "import nltk\n",
    "txt= \"Text mining is also refeered as text data Mining,rough equicvalent text analytics  is the process of derivating\"\n",
    "wordli=nltk.word_tokenize(txt)\n",
    "tag=nltk.pos_tag(wordli)\n",
    "print(tag)"
   ]
  },
  {
   "cell_type": "code",
   "execution_count": 25,
   "id": "2cfa8e25",
   "metadata": {},
   "outputs": [
    {
     "name": "stdout",
     "output_type": "stream",
     "text": [
      "[('Apple', 'PERSON'), ('Apple', 'GPE'), ('Stanford', 'GPE')]\n"
     ]
    }
   ],
   "source": [
    "# Name Entity Recognisation\n",
    "doc='''\n",
    "      Apple bought car from Apple store from Stanford  '''\n",
    "#tokenize doc\n",
    "tokenizedoc=nltk.word_tokenize(doc)\n",
    "tagged_sentenc=nltk.pos_tag(tokenizedoc)\n",
    "nechunck=nltk.ne_chunk(tagged_sentenc)\n",
    "named_entity=[]\n",
    "for tagged_tree in nechunck:\n",
    "    \n",
    "    if hasattr(tagged_tree,\"label\"):\n",
    "        entity_name=' '.join(c[0] for c in tagged_tree.leaves())\n",
    "        entity_type=tagged_tree.label()\n",
    "        named_entity.append((entity_name,entity_type))\n",
    "print(named_entity)"
   ]
  },
  {
   "cell_type": "code",
   "execution_count": 26,
   "id": "6a32c850",
   "metadata": {},
   "outputs": [
    {
     "data": {
      "text/html": [
       "<div>\n",
       "<style scoped>\n",
       "    .dataframe tbody tr th:only-of-type {\n",
       "        vertical-align: middle;\n",
       "    }\n",
       "\n",
       "    .dataframe tbody tr th {\n",
       "        vertical-align: top;\n",
       "    }\n",
       "\n",
       "    .dataframe thead th {\n",
       "        text-align: right;\n",
       "    }\n",
       "</style>\n",
       "<table border=\"1\" class=\"dataframe\">\n",
       "  <thead>\n",
       "    <tr style=\"text-align: right;\">\n",
       "      <th></th>\n",
       "      <th>an</th>\n",
       "      <th>becomes</th>\n",
       "      <th>blade</th>\n",
       "      <th>but</th>\n",
       "      <th>chiles</th>\n",
       "      <th>clean</th>\n",
       "      <th>cook</th>\n",
       "      <th>don</th>\n",
       "      <th>electric</th>\n",
       "      <th>enough</th>\n",
       "      <th>...</th>\n",
       "      <th>prosciutto</th>\n",
       "      <th>slicer</th>\n",
       "      <th>start</th>\n",
       "      <th>that</th>\n",
       "      <th>the</th>\n",
       "      <th>they</th>\n",
       "      <th>this</th>\n",
       "      <th>to</th>\n",
       "      <th>used</th>\n",
       "      <th>wow</th>\n",
       "    </tr>\n",
       "  </thead>\n",
       "  <tbody>\n",
       "    <tr>\n",
       "      <th>0</th>\n",
       "      <td>0</td>\n",
       "      <td>0</td>\n",
       "      <td>0</td>\n",
       "      <td>0</td>\n",
       "      <td>0</td>\n",
       "      <td>0</td>\n",
       "      <td>0</td>\n",
       "      <td>0</td>\n",
       "      <td>0</td>\n",
       "      <td>0</td>\n",
       "      <td>...</td>\n",
       "      <td>0</td>\n",
       "      <td>0</td>\n",
       "      <td>0</td>\n",
       "      <td>0</td>\n",
       "      <td>0</td>\n",
       "      <td>0</td>\n",
       "      <td>1</td>\n",
       "      <td>0</td>\n",
       "      <td>0</td>\n",
       "      <td>1</td>\n",
       "    </tr>\n",
       "    <tr>\n",
       "      <th>1</th>\n",
       "      <td>1</td>\n",
       "      <td>1</td>\n",
       "      <td>1</td>\n",
       "      <td>0</td>\n",
       "      <td>0</td>\n",
       "      <td>0</td>\n",
       "      <td>1</td>\n",
       "      <td>0</td>\n",
       "      <td>1</td>\n",
       "      <td>1</td>\n",
       "      <td>...</td>\n",
       "      <td>1</td>\n",
       "      <td>1</td>\n",
       "      <td>1</td>\n",
       "      <td>1</td>\n",
       "      <td>2</td>\n",
       "      <td>0</td>\n",
       "      <td>0</td>\n",
       "      <td>2</td>\n",
       "      <td>1</td>\n",
       "      <td>0</td>\n",
       "    </tr>\n",
       "    <tr>\n",
       "      <th>2</th>\n",
       "      <td>0</td>\n",
       "      <td>0</td>\n",
       "      <td>0</td>\n",
       "      <td>1</td>\n",
       "      <td>1</td>\n",
       "      <td>1</td>\n",
       "      <td>0</td>\n",
       "      <td>1</td>\n",
       "      <td>0</td>\n",
       "      <td>0</td>\n",
       "      <td>...</td>\n",
       "      <td>0</td>\n",
       "      <td>0</td>\n",
       "      <td>0</td>\n",
       "      <td>0</td>\n",
       "      <td>1</td>\n",
       "      <td>1</td>\n",
       "      <td>0</td>\n",
       "      <td>0</td>\n",
       "      <td>0</td>\n",
       "      <td>0</td>\n",
       "    </tr>\n",
       "  </tbody>\n",
       "</table>\n",
       "<p>3 rows × 26 columns</p>\n",
       "</div>"
      ],
      "text/plain": [
       "   an  becomes  blade  but  chiles  clean  cook  don  electric  enough  ...  \\\n",
       "0   0        0      0    0       0      0     0    0         0       0  ...   \n",
       "1   1        1      1    0       0      0     1    0         1       1  ...   \n",
       "2   0        0      0    1       1      1     0    1         0       0  ...   \n",
       "\n",
       "   prosciutto  slicer  start  that  the  they  this  to  used  wow  \n",
       "0           0       0      0     0    0     0     1   0     0    1  \n",
       "1           1       1      1     1    2     0     0   2     1    0  \n",
       "2           0       0      0     0    1     1     0   0     0    0  \n",
       "\n",
       "[3 rows x 26 columns]"
      ]
     },
     "execution_count": 26,
     "metadata": {},
     "output_type": "execute_result"
    }
   ],
   "source": [
    "# Vectorisation\n",
    "from sklearn.feature_extraction.text import CountVectorizer\n",
    "countvect1=CountVectorizer()\n",
    "dtm1=pd.DataFrame(countvect1.fit_transform(usernew[\"Review\"]).toarray(),columns=countvect1.get_feature_names())\n",
    "dtm1"
   ]
  },
  {
   "cell_type": "code",
   "execution_count": 27,
   "id": "b4ccc6f6",
   "metadata": {},
   "outputs": [
    {
     "data": {
      "text/html": [
       "<div>\n",
       "<style scoped>\n",
       "    .dataframe tbody tr th:only-of-type {\n",
       "        vertical-align: middle;\n",
       "    }\n",
       "\n",
       "    .dataframe tbody tr th {\n",
       "        vertical-align: top;\n",
       "    }\n",
       "\n",
       "    .dataframe thead th {\n",
       "        text-align: right;\n",
       "    }\n",
       "</style>\n",
       "<table border=\"1\" class=\"dataframe\">\n",
       "  <thead>\n",
       "    <tr style=\"text-align: right;\">\n",
       "      <th></th>\n",
       "      <th>an</th>\n",
       "      <th>becomes</th>\n",
       "      <th>blade</th>\n",
       "      <th>but</th>\n",
       "      <th>chiles</th>\n",
       "      <th>clean</th>\n",
       "      <th>cook</th>\n",
       "      <th>don</th>\n",
       "      <th>electric</th>\n",
       "      <th>enough</th>\n",
       "      <th>...</th>\n",
       "      <th>prosciutto</th>\n",
       "      <th>slicer</th>\n",
       "      <th>start</th>\n",
       "      <th>that</th>\n",
       "      <th>the</th>\n",
       "      <th>they</th>\n",
       "      <th>this</th>\n",
       "      <th>to</th>\n",
       "      <th>used</th>\n",
       "      <th>wow</th>\n",
       "    </tr>\n",
       "  </thead>\n",
       "  <tbody>\n",
       "    <tr>\n",
       "      <th>0</th>\n",
       "      <td>0.000000</td>\n",
       "      <td>0.000000</td>\n",
       "      <td>0.000000</td>\n",
       "      <td>0.000000</td>\n",
       "      <td>0.000000</td>\n",
       "      <td>0.000000</td>\n",
       "      <td>0.000000</td>\n",
       "      <td>0.000000</td>\n",
       "      <td>0.000000</td>\n",
       "      <td>0.000000</td>\n",
       "      <td>...</td>\n",
       "      <td>0.000000</td>\n",
       "      <td>0.000000</td>\n",
       "      <td>0.000000</td>\n",
       "      <td>0.000000</td>\n",
       "      <td>0.000000</td>\n",
       "      <td>0.000000</td>\n",
       "      <td>0.5</td>\n",
       "      <td>0.000000</td>\n",
       "      <td>0.000000</td>\n",
       "      <td>0.5</td>\n",
       "    </tr>\n",
       "    <tr>\n",
       "      <th>1</th>\n",
       "      <td>0.216607</td>\n",
       "      <td>0.216607</td>\n",
       "      <td>0.216607</td>\n",
       "      <td>0.000000</td>\n",
       "      <td>0.000000</td>\n",
       "      <td>0.000000</td>\n",
       "      <td>0.216607</td>\n",
       "      <td>0.000000</td>\n",
       "      <td>0.216607</td>\n",
       "      <td>0.216607</td>\n",
       "      <td>...</td>\n",
       "      <td>0.216607</td>\n",
       "      <td>0.216607</td>\n",
       "      <td>0.216607</td>\n",
       "      <td>0.216607</td>\n",
       "      <td>0.329470</td>\n",
       "      <td>0.000000</td>\n",
       "      <td>0.0</td>\n",
       "      <td>0.433213</td>\n",
       "      <td>0.216607</td>\n",
       "      <td>0.0</td>\n",
       "    </tr>\n",
       "    <tr>\n",
       "      <th>2</th>\n",
       "      <td>0.000000</td>\n",
       "      <td>0.000000</td>\n",
       "      <td>0.000000</td>\n",
       "      <td>0.423394</td>\n",
       "      <td>0.423394</td>\n",
       "      <td>0.423394</td>\n",
       "      <td>0.000000</td>\n",
       "      <td>0.423394</td>\n",
       "      <td>0.000000</td>\n",
       "      <td>0.000000</td>\n",
       "      <td>...</td>\n",
       "      <td>0.000000</td>\n",
       "      <td>0.000000</td>\n",
       "      <td>0.000000</td>\n",
       "      <td>0.000000</td>\n",
       "      <td>0.322002</td>\n",
       "      <td>0.423394</td>\n",
       "      <td>0.0</td>\n",
       "      <td>0.000000</td>\n",
       "      <td>0.000000</td>\n",
       "      <td>0.0</td>\n",
       "    </tr>\n",
       "  </tbody>\n",
       "</table>\n",
       "<p>3 rows × 26 columns</p>\n",
       "</div>"
      ],
      "text/plain": [
       "         an   becomes     blade       but    chiles     clean      cook  \\\n",
       "0  0.000000  0.000000  0.000000  0.000000  0.000000  0.000000  0.000000   \n",
       "1  0.216607  0.216607  0.216607  0.000000  0.000000  0.000000  0.216607   \n",
       "2  0.000000  0.000000  0.000000  0.423394  0.423394  0.423394  0.000000   \n",
       "\n",
       "        don  electric    enough  ...  prosciutto    slicer     start  \\\n",
       "0  0.000000  0.000000  0.000000  ...    0.000000  0.000000  0.000000   \n",
       "1  0.000000  0.216607  0.216607  ...    0.216607  0.216607  0.216607   \n",
       "2  0.423394  0.000000  0.000000  ...    0.000000  0.000000  0.000000   \n",
       "\n",
       "       that       the      they  this        to      used  wow  \n",
       "0  0.000000  0.000000  0.000000   0.5  0.000000  0.000000  0.5  \n",
       "1  0.216607  0.329470  0.000000   0.0  0.433213  0.216607  0.0  \n",
       "2  0.000000  0.322002  0.423394   0.0  0.000000  0.000000  0.0  \n",
       "\n",
       "[3 rows x 26 columns]"
      ]
     },
     "execution_count": 27,
     "metadata": {},
     "output_type": "execute_result"
    }
   ],
   "source": [
    "# TF -IDF vectorizer\n",
    "from sklearn.feature_extraction.text import TfidfVectorizer\n",
    "countvect2=TfidfVectorizer()\n",
    "dtm2=pd.DataFrame(countvect2.fit_transform(usernew[\"Review\"]).toarray(),columns=countvect2.get_feature_names())\n",
    "dtm2"
   ]
  }
 ],
 "metadata": {
  "kernelspec": {
   "display_name": "Python 3 (ipykernel)",
   "language": "python",
   "name": "python3"
  },
  "language_info": {
   "codemirror_mode": {
    "name": "ipython",
    "version": 3
   },
   "file_extension": ".py",
   "mimetype": "text/x-python",
   "name": "python",
   "nbconvert_exporter": "python",
   "pygments_lexer": "ipython3",
   "version": "3.9.7"
  }
 },
 "nbformat": 4,
 "nbformat_minor": 5
}
